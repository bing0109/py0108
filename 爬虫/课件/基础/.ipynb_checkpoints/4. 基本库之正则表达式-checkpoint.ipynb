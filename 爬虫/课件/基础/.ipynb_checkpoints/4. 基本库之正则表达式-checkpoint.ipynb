{
 "cells": [
  {
   "cell_type": "markdown",
   "metadata": {},
   "source": [
    "# 正则表达式"
   ]
  },
  {
   "cell_type": "markdown",
   "metadata": {},
   "source": [
    "本节我们看一下正则表达式的相关用法。正则表达式是处理字符串的强大工具，它有自己特定的语法结构，有了它，实现字符串的检索、替换、匹配验证都不在话下。更多内容可以参考http://www.runoob.com/python/python-reg-expressions.html"
   ]
  },
  {
   "cell_type": "markdown",
   "metadata": {},
   "source": [
    "# 1. 匹配规则"
   ]
  },
  {
   "cell_type": "markdown",
   "metadata": {},
   "source": [
    "常用的匹配规则如下："
   ]
  },
  {
   "cell_type": "markdown",
   "metadata": {},
   "source": [
    "|模式|描述|\n",
    "|- | :-: | -: |\n",
    "|\\w|匹配字母、数字及下划线|\n",
    "|\\W|匹配不是字母、数字及下划线的字符|\n",
    "|\\s|匹配任意空白字符，等价于[\\t\\n\\r\\f]|\n",
    "|\\S|匹配任意非空字符|\n",
    "|\\d|匹配任意数字，等价于[0-9]|\n",
    "|\\D|匹配任意非数字的字符|\n",
    "|\\A|匹配字符串开头|\n",
    "|\\Z|匹配字符串结尾，如果存在换行，只匹配到换行前的结束字符串|\n",
    "|\\z|匹配字符串结尾，如果存在换行，同时还会匹配换行符|\n",
    "|\\G|匹配最后匹配完成的位置|\n",
    "|\\n|匹配一个换行符|\n",
    "|\\t|匹配一个制表符|\n",
    "|^|匹配一行字符串的开头|\n",
    "|$|匹配一行字符串的结尾|\n",
    "|.|匹配任意字符，除了换行符，当re.DOTALL标记被指定时，则可以匹配包括换行符的任意字符|\n",
    "|[...]|用来表示一组字符，单独列出，比如[amk]匹配a、m或k|\n",
    "|[^...]|不在[]中的字符，比如[^abc]匹配除了a、b、c之外的字符|\n",
    "|*|匹配0个或多个表达式|\n",
    "|+|匹配1个或多个表达式|\n",
    "|?|匹配0个或1个前面的正则表达式定义的片段，非贪婪方式|\n",
    "|{n}|精确匹配n个前面的表达式|\n",
    "|{n, m}|匹配n到m次由前面正则表达式定义的片段，贪婪方式|\n",
    "|a∣b|匹配a或b|\n",
    "|( )|匹配括号内的表达式，也表示一个组|"
   ]
  },
  {
   "cell_type": "markdown",
   "metadata": {},
   "source": [
    "说了这么多，可能我们对它到底是个什么还是比较模糊，下面就用几个实例来看一下正则表达式的用法。打开开源中国提供的[正则表达式测试工具](http://tool.oschina.net/regex/)，输入待匹配的文本，然后选择常用的正则表达式，就可以得出相应的匹配结果了。通过下面的文本去匹配："
   ]
  },
  {
   "cell_type": "markdown",
   "metadata": {},
   "source": [
    "```\n",
    "Hello, my phone number is 0755-86432100 and email is abc@163.com, and my website is http://www.baidu.com.\n",
    "```"
   ]
  },
  {
   "cell_type": "markdown",
   "metadata": {},
   "source": [
    "其实正则表达式不是Python独有的，它也可以用在其他编程语言中。但是Python的re库提供了整个正则表达式的实现，利用这个库，可以在Python中使用正则表达式。在Python中写正则表达式几乎都用这个库，下面就来了解它的一些常用方法。"
   ]
  },
  {
   "cell_type": "markdown",
   "metadata": {},
   "source": [
    "# 2. match()"
   ]
  },
  {
   "cell_type": "markdown",
   "metadata": {},
   "source": [
    "match()向它传入要匹配的字符串以及正则表达式，就可以检测这个正则表达式是否匹配字符串。"
   ]
  },
  {
   "cell_type": "code",
   "execution_count": 6,
   "metadata": {},
   "outputs": [
    {
     "name": "stdout",
     "output_type": "stream",
     "text": [
      "Hello Hello 123 4567 World\n",
      "<re.Match object; span=(0, 26), match='Hello Hello 123 4567 World'>\n"
     ]
    }
   ],
   "source": [
    "import re\n",
    " \n",
    "content = 'Hello Hello 123 4567 World_This is a Regex Demo'\n",
    "result=re.match('.*Hello\\s\\d{3}\\s\\d{4}\\sWorld',content)\n",
    "print(result.group())\n",
    "print(result)"
   ]
  },
  {
   "cell_type": "code",
   "execution_count": 3,
   "metadata": {},
   "outputs": [
    {
     "name": "stdout",
     "output_type": "stream",
     "text": [
      "41\n",
      "<_sre.SRE_Match object; span=(0, 20), match='Hello 123 4567 World'>\n",
      "Hello 123 4567 World\n"
     ]
    }
   ],
   "source": [
    "import re\n",
    " \n",
    "content = 'Hello 123 4567 World_This is a Regex Demo'\n",
    "print(len(content))\n",
    "result = re.match('^Hello\\s\\d\\d\\d\\s\\d{4}\\sWorld',content)\n",
    "print(result)\n",
    "# print(result)\n",
    "print(result.group())#group()方法可以输出匹配到的内容\n",
    "# print(result.span())#span()方法可以输出匹配的范围"
   ]
  },
  {
   "cell_type": "markdown",
   "metadata": {},
   "source": [
    "## 2.1 匹配目标"
   ]
  },
  {
   "cell_type": "markdown",
   "metadata": {},
   "source": [
    "刚才我们用match()方法可以得到匹配到的字符串内容，但是如果想从字符串中提取一部分内容，这里可以使用()括号将想提取的子字符串括起来。()实际上标记了一个子表达式的开始和结束位置，被标记的每个子表达式会依次对应每一个分组，调用group()方法传入分组的索引即可获取提取的结果。"
   ]
  },
  {
   "cell_type": "code",
   "execution_count": 17,
   "metadata": {},
   "outputs": [
    {
     "name": "stdout",
     "output_type": "stream",
     "text": [
      "Hello 1234567 World 123 _\n"
     ]
    }
   ],
   "source": [
    "import re \n",
    "\n",
    "content = 'Hello 1234567 World 123 _This is a Regex Demo'\n",
    "r = re.match('Hello\\s(\\d{7})\\sWorld\\s(\\d{3})\\s_',content)\n",
    "print(r.group())"
   ]
  },
  {
   "cell_type": "markdown",
   "metadata": {},
   "source": [
    "假如正则表达式后面还有()包括的内容，那么可以依次用group(2)、group(3)等来获取。"
   ]
  },
  {
   "cell_type": "markdown",
   "metadata": {},
   "source": [
    "## 2.2 通用匹配"
   ]
  },
  {
   "cell_type": "markdown",
   "metadata": {},
   "source": [
    "有一个万能匹配可以用，那就是.\\*（点星）。其中.（点）可以匹配任意字符（除换行符），*（星）代表匹配前面的字符无限次，所以它们组合在一起就可以匹配任意字符了。有了它，我们就不用挨个字符地匹配了。"
   ]
  },
  {
   "cell_type": "code",
   "execution_count": 19,
   "metadata": {},
   "outputs": [
    {
     "name": "stdout",
     "output_type": "stream",
     "text": [
      "7\n",
      "<class 're.Match'>\n",
      "1234567\n",
      "7\n",
      "1234567\n",
      "7\n"
     ]
    }
   ],
   "source": [
    "import re\n",
    " \n",
    "content = 'Hello 1234567 World 4567 World_This is a Regex Demo'\n",
    "# print(len(content))\n",
    "result = re.match('H.*(\\d+).*World',content)\n",
    "res1 = re.match('.*(\\d{7}).*World', content)\n",
    "res2 = re.match('.*(\\d+).*World', content)\n",
    "res3 = re.match('.*?(\\d+).*World', content)\n",
    "res4 = re.match('.*(\\d+?).*World', content)\n",
    "print(result.group(1))\n",
    "print(type(result))\n",
    "print(res1.group(1))\n",
    "print(res2.group(1))\n",
    "print(res3.group(1))\n",
    "print(res4.group(1))\n"
   ]
  },
  {
   "cell_type": "code",
   "execution_count": 8,
   "metadata": {},
   "outputs": [
    {
     "name": "stdout",
     "output_type": "stream",
     "text": [
      "41\n",
      "<_sre.SRE_Match object; span=(0, 41), match='Hello 123 4567 World_This is a Regex Demo'>\n",
      "Hello 123 4567 World_This is a Regex Demo\n",
      "(0, 41)\n"
     ]
    }
   ],
   "source": [
    "import re\n",
    " \n",
    "content = 'Hello 123 4567 World_This is a Regex Demo'\n",
    "print(len(content))\n",
    "result = re.match('Hello.*Demo$',content)\n",
    "print(result)\n",
    "print(result.group())#group()方法可以输出匹配到的内容\n",
    "print(result.span())#span()方法可以输出匹配的范围"
   ]
  },
  {
   "cell_type": "markdown",
   "metadata": {},
   "source": [
    "因此，我们可以使用.*简化正则表达式的书写。"
   ]
  },
  {
   "cell_type": "markdown",
   "metadata": {},
   "source": [
    "## 2.3 贪婪与非贪婪"
   ]
  },
  {
   "cell_type": "markdown",
   "metadata": {},
   "source": [
    "使用上面的通用匹配.*时，可能有时候匹配到的并不是我们想要的结果。看下面的例子："
   ]
  },
  {
   "cell_type": "markdown",
   "metadata": {},
   "source": [
    "这里就涉及一个贪婪匹配与非贪婪匹配的问题了。在贪婪匹配下，.\\*会匹配尽可能多的字符。正则表达式中.\\*后面是\\d+，也就是至少一个数字，并没有指定具体多少个数字，因此，.\\*就尽可能匹配多的字符"
   ]
  },
  {
   "cell_type": "markdown",
   "metadata": {},
   "source": [
    "这里只需要使用非贪婪匹配就好了。非贪婪匹配的写法是.\\*?，多了一个?，那么它可以达到怎样的效果？"
   ]
  },
  {
   "cell_type": "code",
   "execution_count": 19,
   "metadata": {},
   "outputs": [
    {
     "name": "stdout",
     "output_type": "stream",
     "text": [
      "Hello 1234567 World_This is a Regex Demo\n",
      "1234567\n"
     ]
    }
   ],
   "source": [
    "import re\n",
    " \n",
    "content = 'Hello 1234567 World_This is a Regex Demo'\n",
    "result = re.match('^He.*?(\\d+).*?Demo$', content)\n",
    "print(result.group())\n",
    "print(result.group(1))"
   ]
  },
  {
   "cell_type": "markdown",
   "metadata": {},
   "source": [
    "贪婪匹配是尽可能匹配多的字符，非贪婪匹配就是尽可能匹配少的字符。所以说，在做匹配的时候，字符串中间尽量使用非贪婪匹配，也就是用.\\*?来代替.\\*，以免出现匹配结果缺失的情况。\n",
    "\n",
    "但这里需要注意，如果匹配的结果在字符串结尾，.\\*?就有可能匹配不到任何内容了，因为它会匹配尽可能少的字符。"
   ]
  },
  {
   "cell_type": "code",
   "execution_count": 28,
   "metadata": {},
   "outputs": [
    {
     "name": "stdout",
     "output_type": "stream",
     "text": [
      "result1 \n",
      "result2 kEraCN\n"
     ]
    }
   ],
   "source": [
    "import re\n",
    " \n",
    "content = 'http://weibo.com/comment/kEraCN'\n",
    "result1 = re.match('http.*?comment/(.*?)', content)\n",
    "result2 = re.match('http.*?comment/(.*)', content)\n",
    "print('result1', result1.group(1))\n",
    "print('result2', result2.group(1))"
   ]
  },
  {
   "cell_type": "markdown",
   "metadata": {},
   "source": [
    "+ 字符串的中间：用非贪婪模式\n",
    "+ 字符串的结尾：用贪婪模式"
   ]
  },
  {
   "cell_type": "markdown",
   "metadata": {},
   "source": [
    "## 2.4 修饰符"
   ]
  },
  {
   "cell_type": "markdown",
   "metadata": {},
   "source": [
    "正则表达式可以包含一些可选标志修饰符来控制匹配的模式。修饰符被指定为一个可选的标志。"
   ]
  },
  {
   "cell_type": "markdown",
   "metadata": {},
   "source": [
    "另外，还有一些修饰符，在必要的情况下也可以使用"
   ]
  },
  {
   "cell_type": "markdown",
   "metadata": {},
   "source": [
    "修饰符|描述\n",
    "-|:-\n",
    "re.I|使匹配对大小写不敏感\n",
    "re.L|做本地化识别（locale-aware）匹配\n",
    "re.M|多行匹配，影响^和$\n",
    "re.S|使.匹配包括换行在内的所有字符\n",
    "re.U|根据Unicode字符集解析字符。这个标志影响\\w、\\W、 \\b和\\B\n",
    "re.X|该标志通过给予你更灵活的格式以便你将正则表达式写得更易于理解"
   ]
  },
  {
   "cell_type": "markdown",
   "metadata": {},
   "source": [
    "在网页匹配中，较为常用的有re.S和re.I。"
   ]
  },
  {
   "cell_type": "code",
   "execution_count": 23,
   "metadata": {},
   "outputs": [
    {
     "name": "stdout",
     "output_type": "stream",
     "text": [
      "1234567\n"
     ]
    },
    {
     "ename": "AttributeError",
     "evalue": "'NoneType' object has no attribute 'group'",
     "output_type": "error",
     "traceback": [
      "\u001b[0;31m---------------------------------------------------------------------------\u001b[0m",
      "\u001b[0;31mAttributeError\u001b[0m                            Traceback (most recent call last)",
      "\u001b[0;32m<ipython-input-23-89ff789abdb9>\u001b[0m in \u001b[0;36m<module>\u001b[0;34m()\u001b[0m\n\u001b[1;32m      6\u001b[0m \u001b[0mres2\u001b[0m \u001b[0;34m=\u001b[0m \u001b[0mre\u001b[0m\u001b[0;34m.\u001b[0m\u001b[0mmatch\u001b[0m\u001b[0;34m(\u001b[0m\u001b[0;34mr'http.*?Hello\\s(\\d+)'\u001b[0m\u001b[0;34m,\u001b[0m\u001b[0mcontent\u001b[0m\u001b[0;34m,\u001b[0m\u001b[0mre\u001b[0m\u001b[0;34m.\u001b[0m\u001b[0mS\u001b[0m\u001b[0;34m)\u001b[0m\u001b[0;34m\u001b[0m\u001b[0m\n\u001b[1;32m      7\u001b[0m \u001b[0mprint\u001b[0m\u001b[0;34m(\u001b[0m\u001b[0mres2\u001b[0m\u001b[0;34m.\u001b[0m\u001b[0mgroup\u001b[0m\u001b[0;34m(\u001b[0m\u001b[0;36m1\u001b[0m\u001b[0;34m)\u001b[0m\u001b[0;34m)\u001b[0m\u001b[0;34m\u001b[0m\u001b[0m\n\u001b[0;32m----> 8\u001b[0;31m \u001b[0mprint\u001b[0m\u001b[0;34m(\u001b[0m\u001b[0mres1\u001b[0m\u001b[0;34m.\u001b[0m\u001b[0mgroup\u001b[0m\u001b[0;34m(\u001b[0m\u001b[0;36m1\u001b[0m\u001b[0;34m)\u001b[0m\u001b[0;34m)\u001b[0m   \u001b[0;31m#报错，没匹配到对象\u001b[0m\u001b[0;34m\u001b[0m\u001b[0m\n\u001b[0m",
      "\u001b[0;31mAttributeError\u001b[0m: 'NoneType' object has no attribute 'group'"
     ]
    }
   ],
   "source": [
    "import re\n",
    "content = '''http://www.weibo.com/comment/kEraCN\n",
    "Hello 1234567 World_This is a Regex Demo\n",
    "'''\n",
    "res1 = re.match(r'http.*?Hello\\s(\\d+)',content)\n",
    "res2 = re.match(r'http.*?Hello\\s(\\d+)',content,re.S)\n",
    "print(res2.group(1))\n",
    "print(res1.group(1))   #报错，没匹配到对象\n"
   ]
  },
  {
   "cell_type": "markdown",
   "metadata": {},
   "source": [
    "## 2.5 转义匹配"
   ]
  },
  {
   "cell_type": "markdown",
   "metadata": {},
   "source": [
    "我们知道正则表达式定义了许多匹配模式，实例如下："
   ]
  },
  {
   "cell_type": "code",
   "execution_count": 55,
   "metadata": {},
   "outputs": [
    {
     "name": "stdout",
     "output_type": "stream",
     "text": [
      "(百度)www.baid\\wu.com \\w ccdd\n"
     ]
    }
   ],
   "source": [
    "import re\n",
    " \n",
    "content = '(百度)www.baid\\wu.com \\w ccdd'\n",
    "result = re.match(r'\\(百度\\).*?\\s\\\\w\\sccdd', content)\n",
    "print(result.group())"
   ]
  },
  {
   "cell_type": "markdown",
   "metadata": {},
   "source": [
    "当遇到用于正则匹配模式的特殊字符时，在前面加反斜线(\\\\)转义一下即可。"
   ]
  },
  {
   "cell_type": "markdown",
   "metadata": {},
   "source": [
    "# 3. search()"
   ]
  },
  {
   "cell_type": "markdown",
   "metadata": {},
   "source": [
    "match()方法是从字符串的开头开始匹配的，一旦开头不匹配，那么整个匹配就失败了。search()方法，它在匹配时会扫描整个字符串，然后返回第一个成功匹配的结果。"
   ]
  },
  {
   "cell_type": "code",
   "execution_count": 59,
   "metadata": {},
   "outputs": [
    {
     "name": "stdout",
     "output_type": "stream",
     "text": [
      "1234567\n"
     ]
    }
   ],
   "source": [
    "import re\n",
    " \n",
    "content = 'Extra stingsllo Hello 1234567 World_This Wor is a Regex Demo Extra stings' \n",
    "\n",
    "result = re.search('Ex.*?Hello.*?(\\d+).*Wor', content)\n",
    "print(result.group(1))"
   ]
  },
  {
   "cell_type": "markdown",
   "metadata": {},
   "source": [
    "下面再用几个实例来看看search()方法的用法。"
   ]
  },
  {
   "cell_type": "code",
   "execution_count": 62,
   "metadata": {},
   "outputs": [
    {
     "name": "stdout",
     "output_type": "stream",
     "text": [
      "齐秦 往事随风\n"
     ]
    }
   ],
   "source": [
    "import re\n",
    "\n",
    "html = '''<div id=\"songs-list\">\n",
    "    <h2 class=\"title\">经典老歌</h2>\n",
    "    <p class=\"introduction\">\n",
    "        经典老歌列表\n",
    "    </p>\n",
    "    <ul id=\"list\" class=\"list-group\">\n",
    "        <li data-view=\"2\">一路上有你</li>\n",
    "        <li data-view=\"4\" class=\"active\">\n",
    "            <a href=\"/3.mp3\" singer=\"齐秦\">往事随风</a>\n",
    "        </li>\n",
    "        <li data-view=\"7\">\n",
    "            <a href=\"/2.mp3\" singer=\"任贤齐\">沧海一声笑</a>\n",
    "        </li>\n",
    "        <li data-view=\"6\"><a href=\"/4.mp3\" singer=\"beyond\">光辉岁月</a></li>\n",
    "        <li data-view=\"5\"><a href=\"/5.mp3\" singer=\"陈慧琳\">记事本</a></li>\n",
    "        <li data-view=\"5\">\n",
    "            <a href=\"/6.mp3\" singer=\"邓丽君\"><i class=\"fa fa-user\"></i>但愿人长久</a>\n",
    "        </li>\n",
    "    </ul>\n",
    "</div>'''\n",
    "\n",
    "results=re.search(r'<a.*?singer=\"(.*?)\">(.*?)</a>',html,re.S)\n",
    "print(results.group(1),results.group(2))"
   ]
  },
  {
   "cell_type": "code",
   "execution_count": 61,
   "metadata": {},
   "outputs": [
    {
     "name": "stdout",
     "output_type": "stream",
     "text": [
      "齐秦 往事随风\n"
     ]
    }
   ],
   "source": [
    "import re\n",
    "\n",
    "html = '''<div id=\"songs-list\">\n",
    "    <h2 class=\"title\">经典老歌</h2>\n",
    "    <p class=\"introduction\">\n",
    "        经典老歌列表\n",
    "    </p>\n",
    "    <ul id=\"list\" class=\"list-group\">\n",
    "        <li data-view=\"2\">一路上有你</li>\n",
    "        <li data-view=\"4\" class=\"active\">\n",
    "            <a href=\"/3.mp3\" singer=\"齐秦\">往事随风</a>\n",
    "        </li>\n",
    "        <li data-view=\"7\">\n",
    "            <a href=\"/2.mp3\" singer=\"任贤齐\">沧海一声笑</a>\n",
    "        </li>\n",
    "        <li data-view=\"6\"><a href=\"/4.mp3\" singer=\"beyond\">光辉岁月</a></li>\n",
    "        <li data-view=\"5\"><a href=\"/5.mp3\" singer=\"陈慧琳\">记事本</a></li>\n",
    "        <li data-view=\"5\">\n",
    "            <a href=\"/6.mp3\" singer=\"邓丽君\"><i class=\"fa fa-user\"></i>但愿人长久</a>\n",
    "        </li>\n",
    "    </ul>\n",
    "</div>'''\n",
    "\n",
    "r1 = re.search('<a.*?singer=\"(.*?)\">(.*?)</a>',html,re.S)\n",
    "print(r1.group(1),r1.group(2))"
   ]
  },
  {
   "cell_type": "code",
   "execution_count": 67,
   "metadata": {},
   "outputs": [
    {
     "name": "stdout",
     "output_type": "stream",
     "text": [
      "任贤齐 沧海一声笑\n",
      "齐秦 往事随风\n",
      "邓丽君 但愿人长久\n"
     ]
    }
   ],
   "source": [
    "import re\n",
    "\n",
    "html = '''<div id=\"songs-list\">\n",
    "    <h2 class=\"title\">经典老歌</h2>\n",
    "    <p class=\"introduction\">\n",
    "        经典老歌列表\n",
    "    </p>\n",
    "    <ul id=\"list\" class=\"list-group\">\n",
    "        <li data-view=\"2\">一路上有你</li>\n",
    "        <li data-view=\"7\">\n",
    "            <a href=\"/2.mp3\" singer=\"任贤齐\">沧海一声笑</a>\n",
    "        </li>\n",
    "        <li data-view=\"4\" class=\"active\">\n",
    "            <a href=\"/3.mp3\" singer=\"齐秦\">往事随风</a>\n",
    "        </li>\n",
    "        <li data-view=\"6\"><a href=\"/4.mp3\" singer=\"beyond\">光辉岁月</a></li>\n",
    "        <li data-view=\"5\"><a href=\"/5.mp3\" singer=\"陈慧琳\">记事本</a></li>\n",
    "        <li data-view=\"5\">\n",
    "            <a href=\"/6.mp3\" singer=\"邓丽君\"><i class=\"fa fa-user\"></i>但愿人长久</a>\n",
    "        </li>\n",
    "    </ul>\n",
    "</div>'''\n",
    "\n",
    "r1 = re.search('<li.*?singer=\"(.*?)\">(.*?)</a>',html,re.S)\n",
    "r2 = re.search('<li.*?active.*?singer=\"(.*?)\">(.*?)</a>',html,re.S)\n",
    "r3 = re.search('<li.*?/6.*?singer=\"(.*?)\">.*?</i>(.*?)</a>',html,re.S)\n",
    "print(r1.group(1),r1.group(2))\n",
    "print(r2.group(1),r2.group(2))\n",
    "print(r3.group(1),r3.group(2))"
   ]
  },
  {
   "cell_type": "markdown",
   "metadata": {},
   "source": [
    "由于绝大部分的HTML文本都包含了换行符，所以尽量都需要加上re.S修饰符，以免出现匹配不到的问题。"
   ]
  },
  {
   "cell_type": "markdown",
   "metadata": {},
   "source": [
    "# 4. findall()"
   ]
  },
  {
   "cell_type": "markdown",
   "metadata": {},
   "source": [
    "search()方法它可以返回匹配正则表达式的第一个内容，但是如果想要获取匹配正则表达式的所有内容，那该怎么办呢？这时就要借助findall()方法了。该方法会搜索整个字符串，然后返回匹配正则表达式的所有内容。"
   ]
  },
  {
   "cell_type": "code",
   "execution_count": 69,
   "metadata": {},
   "outputs": [
    {
     "name": "stdout",
     "output_type": "stream",
     "text": [
      "[('/2.mp3', '任贤齐', '沧海一声笑'), ('/3.mp3', '齐秦', '往事随风'), ('/4.mp3', 'beyond', '光辉岁月'), ('/5.mp3', '陈慧琳', '记事本'), ('/6.mp3', '邓丽君', '但愿人长久')]\n",
      "/2.mp3 任贤齐 沧海一声笑\n",
      "/3.mp3 齐秦 往事随风\n",
      "/4.mp3 beyond 光辉岁月\n",
      "/5.mp3 陈慧琳 记事本\n",
      "/6.mp3 邓丽君 但愿人长久\n"
     ]
    }
   ],
   "source": [
    "import re\n",
    "\n",
    "html = '''<div id=\"songs-list\">\n",
    "    <h2 class=\"title\">经典老歌</h2>\n",
    "    <p class=\"introduction\">\n",
    "        经典老歌列表\n",
    "    </p>\n",
    "    <ul id=\"list\" class=\"list-group\">\n",
    "        <li data-view=\"2\">一路上有你</li>\n",
    "        <li data-view=\"7\">\n",
    "            <a href=\"/2.mp3\" singer=\"任贤齐\">沧海一声笑</a>\n",
    "        </li>\n",
    "        <li data-view=\"4\" class=\"active\">\n",
    "            <a href=\"/3.mp3\" singer=\"齐秦\">往事随风</a>\n",
    "        </li>\n",
    "        <li data-view=\"6\"><a href=\"/4.mp3\" singer=\"beyond\">光辉岁月</a></li>\n",
    "        <li data-view=\"5\"><a href=\"/5.mp3\" singer=\"陈慧琳\">记事本</a></li>\n",
    "        <li data-view=\"5\">\n",
    "            <a href=\"/6.mp3\" singer=\"邓丽君\">但愿人长久</a>\n",
    "        </li>\n",
    "    </ul>\n",
    "</div>'''\n",
    "\n",
    "results = re.findall(r'<li.*?href=\"(.*?)\".*?singer=\"(.*?)\">(.*?)</a>',html,re.S)\n",
    "print(results)\n",
    "for r in results:\n",
    "    print(r[0],r[1],r[2])"
   ]
  },
  {
   "cell_type": "code",
   "execution_count": 77,
   "metadata": {},
   "outputs": [
    {
     "name": "stdout",
     "output_type": "stream",
     "text": [
      "一路上有你\n",
      "沧海一声笑\n",
      "往事随风\n",
      "光辉岁月\n",
      "记事本\n",
      "但愿人长久\n"
     ]
    }
   ],
   "source": [
    "import re\n",
    "\n",
    "html = '''<div id=\"songs-list\">\n",
    "    <h2 class=\"title\">经典老歌</h2>\n",
    "    <p class=\"introduction\">\n",
    "        经典老歌列表\n",
    "    </p>\n",
    "    <ul id=\"list\" class=\"list-group\">\n",
    "        <li data-view=\"2\">一路上有你</li>\n",
    "        <li data-view=\"7\">\n",
    "            <a href=\"/2.mp3\" singer=\"任贤齐\">沧海一声笑</a>\n",
    "        </li>\n",
    "        <li data-view=\"4\" class=\"active\">\n",
    "            <a href=\"/3.mp3\" singer=\"齐秦\">往事随风</a>\n",
    "        </li>\n",
    "        <li data-view=\"6\"><a href=\"/4.mp3\" singer=\"beyond\">光辉岁月</a></li>\n",
    "        <li data-view=\"5\"><a href=\"/5.mp3\" singer=\"陈慧琳\">记事本</a></li>\n",
    "        <li data-view=\"5\">\n",
    "            <a href=\"/6.mp3\" singer=\"邓丽君\">但愿人长久</a>\n",
    "        </li>\n",
    "    </ul>\n",
    "</div>'''\n",
    "\n",
    "results = re.findall(r'<li.*?>\\s*(<a.*?\">)?(.*?)<', html, re.S)\n",
    "for result in results:\n",
    "    print(result[1])"
   ]
  },
  {
   "cell_type": "code",
   "execution_count": 82,
   "metadata": {},
   "outputs": [
    {
     "name": "stdout",
     "output_type": "stream",
     "text": [
      "一路上有你\n",
      "沧海一声笑\n",
      "往事随风\n",
      "光辉岁月\n",
      "记事本\n",
      "但愿人长久\n"
     ]
    }
   ],
   "source": [
    "import re\n",
    "\n",
    "html = '''<div id=\"songs-list\">\n",
    "    <h2 class=\"title\">经典老歌</h2>\n",
    "    <p class=\"introduction\">\n",
    "        经典老歌列表\n",
    "    </p>\n",
    "    <ul id=\"list\" class=\"list-group\">\n",
    "        <li data-view=\"2\">一路上有你</li>\n",
    "        <li data-view=\"7\">\n",
    "            <a href=\"/2.mp3\" singer=\"任贤齐\">沧海一声笑</a>\n",
    "        </li>\n",
    "        <li data-view=\"4\" class=\"active\">\n",
    "            <a href=\"/3.mp3\" singer=\"齐秦\">往事随风</a>\n",
    "        </li>\n",
    "        <li data-view=\"6\"><a href=\"/4.mp3\" singer=\"beyond\">光辉岁月</a></li>\n",
    "        <li data-view=\"5\"><a href=\"/5.mp3\" singer=\"陈慧琳\">记事本</a></li>\n",
    "        <li data-view=\"5\">\n",
    "            <a href=\"/6.mp3\" singer=\"邓丽君\">但愿人长久</a>\n",
    "        </li>\n",
    "    </ul>\n",
    "</div>'''\n",
    "\n",
    "results = re.sub(r'<a.*?>','',html, re.S)\n",
    "r=re.findall(r'<li.*?>(.*?)<',results,re.S)\n",
    "for s in r:\n",
    "    print(s.strip())"
   ]
  },
  {
   "cell_type": "markdown",
   "metadata": {},
   "source": [
    "# 5. sub()"
   ]
  },
  {
   "cell_type": "markdown",
   "metadata": {},
   "source": [
    "替换字符串中每一个匹配的子串，返回替换后的字符串。"
   ]
  },
  {
   "cell_type": "code",
   "execution_count": 78,
   "metadata": {},
   "outputs": [
    {
     "name": "stdout",
     "output_type": "stream",
     "text": [
      "Hello nidaye World_This nidaye is a Regex Demo Extra stings\n"
     ]
    }
   ],
   "source": [
    "import re\n",
    "\n",
    "content='Hello 1234567 World_This 123 is a Regex Demo Extra stings'\n",
    "content = re.sub(r'\\d+','nidaye', content,re.S)\n",
    "print(content)"
   ]
  },
  {
   "cell_type": "code",
   "execution_count": 108,
   "metadata": {},
   "outputs": [
    {
     "name": "stdout",
     "output_type": "stream",
     "text": [
      "crifanli\n"
     ]
    }
   ],
   "source": [
    "inputStr = \"hello crifan, nihao crifan\"\n",
    "replacedStr = re.sub(r\"hello (\\w+), nihao \\1\", \"crifanli\", inputStr)\n",
    "print(replacedStr)"
   ]
  },
  {
   "cell_type": "code",
   "execution_count": 97,
   "metadata": {},
   "outputs": [
    {
     "name": "stdout",
     "output_type": "stream",
     "text": [
      "Hello nidaye World_This is nidaye a Regex Demo Extra stings\n"
     ]
    }
   ],
   "source": [
    "import re\n",
    "\n",
    "content='Hello 1234567 World_This is 1234567 a Regex Demo Extra stings'\n",
    "content1 = re.sub('\\d+','nidaye',content,count=2)\n",
    "print(content1)"
   ]
  },
  {
   "cell_type": "code",
   "execution_count": 45,
   "metadata": {},
   "outputs": [
    {
     "name": "stdout",
     "output_type": "stream",
     "text": [
      "一路上有你\n",
      "沧海一声笑\n",
      "往事随风\n",
      "光辉岁月\n",
      "记事本\n",
      "但愿人长久\n"
     ]
    }
   ],
   "source": [
    "import re\n",
    "\n",
    "html = '''<div id=\"songs-list\">\n",
    "    <h2 class=\"title\">经典老歌</h2>\n",
    "    <p class=\"introduction\">\n",
    "        经典老歌列表\n",
    "    </p>\n",
    "    <ul id=\"list\" class=\"list-group\">\n",
    "        <li data-view=\"2\">一路上有你</li>\n",
    "        <li data-view=\"7\">\n",
    "            <a href=\"/2.mp3\" singer=\"任贤齐\">沧海一声笑</a>\n",
    "        </li>\n",
    "        <li data-view=\"4\" class=\"active\">\n",
    "            <a href=\"/3.mp3\" singer=\"齐秦\">往事随风</a>\n",
    "        </li>\n",
    "        <li data-view=\"6\"><a href=\"/4.mp3\" singer=\"beyond\">光辉岁月</a></li>\n",
    "        <li data-view=\"5\"><a href=\"/5.mp3\" singer=\"陈慧琳\">记事本</a></li>\n",
    "        <li data-view=\"5\">\n",
    "            <a href=\"/6.mp3\" singer=\"邓丽君\">但愿人长久</a>\n",
    "        </li>\n",
    "    </ul>\n",
    "</div>'''\n",
    "\n",
    "html = re.sub('<a.*?> | </a>','', html)\n",
    "#print(html)\n",
    "results = re.findall('<li.*?>(.*?)</li>',html,re.S)\n",
    "for result in results:\n",
    "    print(result.strip())"
   ]
  },
  {
   "cell_type": "markdown",
   "metadata": {},
   "source": [
    "可以看到，在适当的时候，借助sub()方法可以起到事半功倍的效果。"
   ]
  },
  {
   "cell_type": "markdown",
   "metadata": {},
   "source": [
    "# 6. compile()"
   ]
  },
  {
   "cell_type": "markdown",
   "metadata": {},
   "source": [
    "前面所讲的方法都是用来处理字符串的方法，最后再介绍一下compile()方法，这个方法可以将正则字符串编译成正则表达式对象，以便在后面的匹配中复用。"
   ]
  },
  {
   "cell_type": "code",
   "execution_count": 103,
   "metadata": {},
   "outputs": [
    {
     "name": "stdout",
     "output_type": "stream",
     "text": [
      "1234567\n"
     ]
    }
   ],
   "source": [
    "import re\n",
    " \n",
    "content = '''Hello 1234567 World_This is a\n",
    "Regex Demo'''\n",
    "pattern = re.compile('^He.*?(\\d+).*Demo$',re.S)\n",
    "result = re.search(pattern, content)\n",
    "print(result.group(1))"
   ]
  },
  {
   "cell_type": "markdown",
   "metadata": {},
   "source": [
    "# 7. 实战练习"
   ]
  },
  {
   "cell_type": "markdown",
   "metadata": {},
   "source": [
    "我们要提取出猫眼电影TOP100的电影名称、时间、评分、图片等信息，提取的站点URL为http://maoyan.com/board/4 。\n",
    "\n",
    "1. 用requests请求html；\n",
    "2. 用正则表达式获取名次、电影名称、上映时间、主演和评分。\n",
    "3. 提取的结果会以文件形式保存下来。"
   ]
  }
 ],
 "metadata": {
  "kernelspec": {
   "display_name": "Python 3",
   "language": "python",
   "name": "python3"
  },
  "language_info": {
   "codemirror_mode": {
    "name": "ipython",
    "version": 3
   },
   "file_extension": ".py",
   "mimetype": "text/x-python",
   "name": "python",
   "nbconvert_exporter": "python",
   "pygments_lexer": "ipython3",
   "version": "3.7.0"
  }
 },
 "nbformat": 4,
 "nbformat_minor": 2
}
